{
 "cells": [
  {
   "cell_type": "code",
   "execution_count": 1,
   "id": "7965dc91",
   "metadata": {},
   "outputs": [],
   "source": [
    "## Importing required \n",
    "\n",
    "from openpyxl import load_workbook\n",
    "import pandas as pd\n",
    "import numpy as np"
   ]
  },
  {
   "cell_type": "code",
   "execution_count": 2,
   "id": "d55713ec",
   "metadata": {},
   "outputs": [],
   "source": [
    "## Loading Workbook\n",
    "wb = load_workbook('week_05_homework_XLSX_openpyxl.xlsx')"
   ]
  },
  {
   "cell_type": "code",
   "execution_count": 3,
   "id": "bec848a7",
   "metadata": {},
   "outputs": [
    {
     "name": "stdout",
     "output_type": "stream",
     "text": [
      "['patient info', 'records']\n"
     ]
    }
   ],
   "source": [
    "## Printing sheetnames to see how many sheets we have\n",
    "print(wb.sheetnames)"
   ]
  },
  {
   "cell_type": "code",
   "execution_count": 4,
   "id": "bfea7297",
   "metadata": {},
   "outputs": [],
   "source": [
    "## Assigning each workbook to a variable\n",
    "\n",
    "info_ws = wb['patient info']\n",
    "records_ws = wb['records']"
   ]
  },
  {
   "cell_type": "code",
   "execution_count": 5,
   "id": "5fbc99fc",
   "metadata": {},
   "outputs": [],
   "source": [
    "## Creating dataframe to do functions on data\n",
    "\n",
    "info_df = pd.DataFrame(info_ws.values)\n",
    "info_df.columns = info_df.iloc[0]\n",
    "info_df = info_df[1:]\n",
    "records_df = pd.DataFrame(records_ws.values)\n",
    "records_df.columns = records_df.iloc[0]\n",
    "records_df = records_df[1:]"
   ]
  },
  {
   "cell_type": "code",
   "execution_count": 6,
   "id": "49bbed6c",
   "metadata": {},
   "outputs": [],
   "source": [
    "## Comapring ID columns of both dataframes i.e \"patient id\" & \"p_id\"  \n",
    "\n",
    "new_rows_in_info_ws = records_df[records_df.p_id.isin(info_df['patient id'])== False]\n",
    "new_rows_in_records_ws = info_df[info_df['patient id'].isin(records_df['p_id']) == False]"
   ]
  },
  {
   "cell_type": "code",
   "execution_count": 7,
   "id": "4a235480",
   "metadata": {},
   "outputs": [],
   "source": [
    "## Appending data into records worksheet from info worksheet which is not present in it\n",
    "\n",
    "for index, row in new_rows_in_records_ws.iterrows():\n",
    "    records_ws.append([row['patient id'], row['age'], row['smoking'], row['smart'], row['asdf'], row['min im']])"
   ]
  },
  {
   "cell_type": "code",
   "execution_count": 8,
   "id": "57fd3b91",
   "metadata": {},
   "outputs": [],
   "source": [
    "## Appending data into info worksheet from records worksheet which is not present in it\n",
    "\n",
    "for index, row in new_rows_in_info_ws.iterrows():\n",
    "    info_ws.append([row['p_id'], row['nam'], row['kf'], row['ave'], row['mginasdf'], row['imim'], row['ifasdm'], row['ignghasdf'], row['ignghim'], row['iimghhai'], row['wcvvg'], row['gsvg'], row['fwwvgs'], row['gagagaf'], row['imginhioasf'], row['mimgigfaf'], row['ivmvsgaf'], row['mggmvasga'], row['gmiagja ag agia'], row['aifaignaghgjaga'], row['miadgfadnaa'], row['agaogsf'], row['avavag'], row['agavcagaad'], row['mdifa asdfi asf'], row['sfaisf g adfa'], row['mg adfa gasf a'], row['fads adsfas '], row['dfmga']])"
   ]
  },
  {
   "cell_type": "code",
   "execution_count": 9,
   "id": "1793e5c6",
   "metadata": {},
   "outputs": [],
   "source": [
    "## Saving work to a new Excel File\n",
    "wb.save('Output.xlsx')"
   ]
  }
 ],
 "metadata": {
  "kernelspec": {
   "display_name": "Python 3 (ipykernel)",
   "language": "python",
   "name": "python3"
  },
  "language_info": {
   "codemirror_mode": {
    "name": "ipython",
    "version": 3
   },
   "file_extension": ".py",
   "mimetype": "text/x-python",
   "name": "python",
   "nbconvert_exporter": "python",
   "pygments_lexer": "ipython3",
   "version": "3.9.7"
  }
 },
 "nbformat": 4,
 "nbformat_minor": 5
}
