{
 "cells": [
  {
   "cell_type": "code",
   "execution_count": 36,
   "id": "a128c040",
   "metadata": {},
   "outputs": [],
   "source": [
    "# List for input\n",
    "list1 = [11,12,13,14,15]\n",
    "string = \"Python is Awesome\""
   ]
  },
  {
   "cell_type": "code",
   "execution_count": 37,
   "id": "373cd39c",
   "metadata": {},
   "outputs": [],
   "source": [
    "# Function for left shifting\n",
    "try:\n",
    "    shifted_list = lambda list1: list1[1:] + list1[:1]\n",
    "except:\n",
    "    print(\"provide proper input\")"
   ]
  },
  {
   "cell_type": "code",
   "execution_count": 39,
   "id": "8d4630dc",
   "metadata": {},
   "outputs": [
    {
     "name": "stdout",
     "output_type": "stream",
     "text": [
      "[12, 13, 14, 15, 11]\n"
     ]
    }
   ],
   "source": [
    "# Output1 for list\n",
    "print(shifted_list(list1))"
   ]
  },
  {
   "cell_type": "code",
   "execution_count": 40,
   "id": "d63a8acf",
   "metadata": {},
   "outputs": [
    {
     "name": "stdout",
     "output_type": "stream",
     "text": [
      "ython is AwesomeP\n"
     ]
    }
   ],
   "source": [
    "# Output2 for String\n",
    "print(shifted_list(string))"
   ]
  },
  {
   "cell_type": "code",
   "execution_count": null,
   "id": "ab84a1e7",
   "metadata": {},
   "outputs": [],
   "source": []
  }
 ],
 "metadata": {
  "kernelspec": {
   "display_name": "Python 3 (ipykernel)",
   "language": "python",
   "name": "python3"
  },
  "language_info": {
   "codemirror_mode": {
    "name": "ipython",
    "version": 3
   },
   "file_extension": ".py",
   "mimetype": "text/x-python",
   "name": "python",
   "nbconvert_exporter": "python",
   "pygments_lexer": "ipython3",
   "version": "3.9.7"
  }
 },
 "nbformat": 4,
 "nbformat_minor": 5
}
