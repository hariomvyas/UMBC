{
 "cells": [
  {
   "cell_type": "code",
   "execution_count": 12,
   "id": "7255de25",
   "metadata": {},
   "outputs": [],
   "source": [
    "# String\n",
    "string = \"Python is Awesome\"\n",
    "num = 3"
   ]
  },
  {
   "cell_type": "code",
   "execution_count": 16,
   "id": "fbddb802",
   "metadata": {},
   "outputs": [],
   "source": [
    "# Function to count string characters and words\n",
    "def count_char_words(string):\n",
    "    try:\n",
    "        words = string.split(\" \")\n",
    "        word_count = len(words)\n",
    "        char_count = len(string)\n",
    "        return word_count,char_count\n",
    "    except:\n",
    "        print(\"Please provide proper string\")"
   ]
  },
  {
   "cell_type": "code",
   "execution_count": 17,
   "id": "c5e4ee75",
   "metadata": {},
   "outputs": [
    {
     "data": {
      "text/plain": [
       "(3, 17)"
      ]
     },
     "execution_count": 17,
     "metadata": {},
     "output_type": "execute_result"
    }
   ],
   "source": [
    "# Calling function & Output1\n",
    "count_char_words(string)"
   ]
  },
  {
   "cell_type": "code",
   "execution_count": 15,
   "id": "a2c46f42",
   "metadata": {},
   "outputs": [
    {
     "name": "stdout",
     "output_type": "stream",
     "text": [
      "Please provide proper input\n"
     ]
    }
   ],
   "source": [
    "# Calling function & Output2\n",
    "count_char_words(num)"
   ]
  },
  {
   "cell_type": "code",
   "execution_count": null,
   "id": "21aecd8b",
   "metadata": {},
   "outputs": [],
   "source": []
  }
 ],
 "metadata": {
  "kernelspec": {
   "display_name": "Python 3 (ipykernel)",
   "language": "python",
   "name": "python3"
  },
  "language_info": {
   "codemirror_mode": {
    "name": "ipython",
    "version": 3
   },
   "file_extension": ".py",
   "mimetype": "text/x-python",
   "name": "python",
   "nbconvert_exporter": "python",
   "pygments_lexer": "ipython3",
   "version": "3.9.7"
  }
 },
 "nbformat": 4,
 "nbformat_minor": 5
}
