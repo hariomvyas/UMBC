{
 "cells": [
  {
   "cell_type": "code",
   "execution_count": 21,
   "metadata": {},
   "outputs": [],
   "source": [
    "# https://kolesnikov.ga/Testing_and_Debugging_Jupyter_Notebooks/\n",
    "import doctest\n",
    "from dateutil import parser"
   ]
  },
  {
   "cell_type": "code",
   "execution_count": 22,
   "metadata": {},
   "outputs": [],
   "source": [
    "def convert_datetime_to_dayofweek(datetime_string):\n",
    "    \"\"\"\n",
    "    This function takes date in the format MON DAY YEAR  HH:MM(PM/AM)\n",
    "    and returns the day of the week\n",
    "    Assume input string is UTC\n",
    "    \n",
    "    >>> convert_datetime_to_dayofweek('Jun 1 2005  1:33PM')\n",
    "    'Wednesday'\n",
    "    >>> convert_datetime_to_dayofweek('Oct 25 2012  2:17AM')\n",
    "    'Thursday'\n",
    "    \"\"\"\n",
    "    # your code goes here\n",
    "    \n",
    "    dayofweek = parser.parse(datetime_string).strftime(\"%A\")\n",
    "    \n",
    "    return dayofweek"
   ]
  },
  {
   "cell_type": "code",
   "execution_count": 24,
   "metadata": {},
   "outputs": [
    {
     "name": "stdout",
     "output_type": "stream",
     "text": [
      "Input Date Time String?\n",
      "Oct 25 2012  2:17AM\n",
      "Thursday\n"
     ]
    }
   ],
   "source": [
    "datetime_string = input(\"Input Date Time String?\\n\")\n",
    "dayofweek = convert_datetime_to_dayofweek(datetime_string)\n",
    "print(dayofweek)"
   ]
  }
 ],
 "metadata": {
  "kernelspec": {
   "display_name": "Python 3 (ipykernel)",
   "language": "python",
   "name": "python3"
  },
  "language_info": {
   "codemirror_mode": {
    "name": "ipython",
    "version": 3
   },
   "file_extension": ".py",
   "mimetype": "text/x-python",
   "name": "python",
   "nbconvert_exporter": "python",
   "pygments_lexer": "ipython3",
   "version": "3.9.7"
  }
 },
 "nbformat": 4,
 "nbformat_minor": 2
}
