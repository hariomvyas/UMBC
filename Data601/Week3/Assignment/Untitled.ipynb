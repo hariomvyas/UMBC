{
 "cells": [
  {
   "cell_type": "code",
   "execution_count": 2,
   "id": "cbc81101",
   "metadata": {},
   "outputs": [
    {
     "name": "stdout",
     "output_type": "stream",
     "text": [
      "Enter your floating point value : \n",
      "12.456\n",
      "Enter the number of decimal places of the result : \n",
      "4\n",
      "1100.0111\n"
     ]
    }
   ],
   "source": [
    "# Python program to convert float\n",
    "# decimal to binary number\n",
    "  \n",
    "# Function returns octal representation\n",
    "def float_bin(number, places = 3):\n",
    "  \n",
    "    # split() separates whole number and decimal \n",
    "    # part and stores it in two separate variables\n",
    "    whole, dec = str(number).split(\".\")\n",
    "  \n",
    "    # Convert both whole number and decimal  \n",
    "    # part from string type to integer type\n",
    "    whole = int(whole)\n",
    "    dec = int (dec)\n",
    "  \n",
    "    # Convert the whole number part to it's\n",
    "    # respective binary form and remove the\n",
    "    # \"0b\" from it.\n",
    "    res = bin(whole).lstrip(\"0b\") + \".\"\n",
    "  \n",
    "    # Iterate the number of times, we want\n",
    "    # the number of decimal places to be\n",
    "    for x in range(places):\n",
    "  \n",
    "        # Multiply the decimal value by 2 \n",
    "        # and separate the whole number part\n",
    "        # and decimal part\n",
    "        whole, dec = str((decimal_converter(dec)) * 2).split(\".\")\n",
    "  \n",
    "        # Convert the decimal part\n",
    "        # to integer again\n",
    "        dec = int(dec)\n",
    "  \n",
    "        # Keep adding the integer parts \n",
    "        # receive to the result variable\n",
    "        res += whole\n",
    "  \n",
    "    return res\n",
    "  \n",
    "# Function converts the value passed as\n",
    "# parameter to it's decimal representation\n",
    "def decimal_converter(num): \n",
    "    while num > 1:\n",
    "        num /= 10\n",
    "    return num\n",
    "  \n",
    "# Driver Code\n",
    "  \n",
    "# Take the user input for \n",
    "# the floating point number\n",
    "n = input(\"Enter your floating point value : \\n\")\n",
    "  \n",
    "# Take user input for the number of\n",
    "# decimal places user want result as\n",
    "p = int(input(\"Enter the number of decimal places of the result : \\n\"))\n",
    "  \n",
    "print(float_bin(n, places = p))"
   ]
  },
  {
   "cell_type": "code",
   "execution_count": null,
   "id": "80a3e0a9",
   "metadata": {},
   "outputs": [],
   "source": []
  }
 ],
 "metadata": {
  "kernelspec": {
   "display_name": "Python 3 (ipykernel)",
   "language": "python",
   "name": "python3"
  },
  "language_info": {
   "codemirror_mode": {
    "name": "ipython",
    "version": 3
   },
   "file_extension": ".py",
   "mimetype": "text/x-python",
   "name": "python",
   "nbconvert_exporter": "python",
   "pygments_lexer": "ipython3",
   "version": "3.9.7"
  }
 },
 "nbformat": 4,
 "nbformat_minor": 5
}
